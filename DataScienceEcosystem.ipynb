{
 "cells": [
  {
   "cell_type": "markdown",
   "id": "32446608-ca7a-479a-a29b-a42b5be70536",
   "metadata": {},
   "source": [
    "# Data Science tools and Ecosystem "
   ]
  },
  {
   "cell_type": "markdown",
   "id": "c4843956-2bf8-4531-863b-d0447824e989",
   "metadata": {},
   "source": [
    "## Author\n",
    "Devendra"
   ]
  },
  {
   "cell_type": "markdown",
   "id": "e8194b7f-2bd0-495f-922e-76d0a7b0ee03",
   "metadata": {},
   "source": [
    "In this notebook, data science tools and Ecosystems are summarized."
   ]
  },
  {
   "cell_type": "markdown",
   "id": "1b8cd9b5-957a-4cd7-b4dd-5e428caea7d0",
   "metadata": {},
   "source": [
    "**objectives**\n",
    "- Cover common data science languages \n",
    "- Cover common libraries used\n",
    "- Teach how basic arithmetic works in python"
   ]
  },
  {
   "cell_type": "markdown",
   "id": "57e9f29a-687a-43a8-bd69-cecbce682bbe",
   "metadata": {},
   "source": [
    "#### The most common data science languages are\n",
    "1. SQL\n",
    "2. Python\n",
    "3. Scala"
   ]
  },
  {
   "cell_type": "markdown",
   "id": "cac2deed-f71d-4093-859b-168a8499b2db",
   "metadata": {},
   "source": [
    "#### Some of the most commonly used libraries by data scientists are\n",
    "1. Pandas\n",
    "2. NumPy\n",
    "3. Scikit\n"
   ]
  },
  {
   "cell_type": "markdown",
   "id": "52a2ee97-f9d9-479c-9630-d0d136e563df",
   "metadata": {},
   "source": [
    "|Data Science Tools|\n",
    "--\n",
    "|RStudio|\n",
    "|Apache Spark|\n",
    "|Hadoop|"
   ]
  },
  {
   "cell_type": "markdown",
   "id": "8bc73ad6-729b-40e7-88d5-4a64857041f8",
   "metadata": {},
   "source": [
    "### Below are three examples of artithmetic expressions in python\n"
   ]
  },
  {
   "cell_type": "code",
   "execution_count": 1,
   "id": "8c60b177-faf7-4eb6-8973-74dd033f3221",
   "metadata": {
    "tags": []
   },
   "outputs": [
    {
     "data": {
      "text/plain": [
       "17"
      ]
     },
     "execution_count": 1,
     "metadata": {},
     "output_type": "execute_result"
    }
   ],
   "source": [
    "#this is a simple arithmetic expression to multiply and add integers\n",
    "(3*4)+5"
   ]
  },
  {
   "cell_type": "code",
   "execution_count": 2,
   "id": "04e566f3-dd57-4c2d-a48f-977dacb5ca6f",
   "metadata": {
    "tags": []
   },
   "outputs": [
    {
     "data": {
      "text/plain": [
       "3.3333333333333335"
      ]
     },
     "execution_count": 2,
     "metadata": {},
     "output_type": "execute_result"
    }
   ],
   "source": [
    "Min=200\n",
    "Hours=60\n",
    "Min/Hours"
   ]
  },
  {
   "cell_type": "code",
   "execution_count": null,
   "id": "8b2f3ac8-c2c0-4235-84f1-832a69afdb0d",
   "metadata": {},
   "outputs": [],
   "source": []
  }
 ],
 "metadata": {
  "kernelspec": {
   "display_name": "Python",
   "language": "python",
   "name": "conda-env-python-py"
  },
  "language_info": {
   "codemirror_mode": {
    "name": "ipython",
    "version": 3
   },
   "file_extension": ".py",
   "mimetype": "text/x-python",
   "name": "python",
   "nbconvert_exporter": "python",
   "pygments_lexer": "ipython3",
   "version": "3.7.12"
  }
 },
 "nbformat": 4,
 "nbformat_minor": 5
}
